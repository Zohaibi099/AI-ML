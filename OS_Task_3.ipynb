{
 "cells": [
  {
   "cell_type": "markdown",
   "id": "b555976f",
   "metadata": {},
   "source": [
    "Mean Squared Error (MSE)\n",
    "Mean Squared Error measures the average squared difference between actual and predicted values.\n",
    "Measures how far predictions are from actual values"
   ]
  },
  {
   "cell_type": "code",
   "execution_count": 1,
   "id": "6b322b27",
   "metadata": {},
   "outputs": [
    {
     "name": "stdout",
     "output_type": "stream",
     "text": [
      "MSE: 0.375\n"
     ]
    }
   ],
   "source": [
    "    \n",
    "def mse(actual, predicted):\n",
    "    return sum((a - p) ** 2 for a, p in zip(actual, predicted)) / len(actual)\n",
    "\n",
    "y_actual = [3, -0.5, 2, 7]\n",
    "y_predicted = [2.5, 0.0, 2, 8]\n",
    "\n",
    "print(\"Mean squared Error:\", mse(y_actual, y_predicted))\n"
   ]
  },
  {
   "cell_type": "markdown",
   "id": "deaf1e98",
   "metadata": {},
   "source": [
    "Root Mean Squared Error (RMSE)\n",
    "RMSE is the square root of MSE, making it easier to interpret in the same units as the actual values\n",
    "Same as MSE but takes square root to match original units"
   ]
  },
  {
   "cell_type": "code",
   "execution_count": 5,
   "id": "5d2563f0",
   "metadata": {},
   "outputs": [
    {
     "name": "stdout",
     "output_type": "stream",
     "text": [
      "Root MSE: 0.6123724356957945\n"
     ]
    }
   ],
   "source": [
    "\n",
    "def rmse(actual, predicted):\n",
    "    return mse(actual, predicted) ** 0.5\n",
    "\n",
    "print(\"Root MSE:\", rmse(y_actual, y_predicted))\n"
   ]
  },
  {
   "cell_type": "markdown",
   "id": "ce0e10cd",
   "metadata": {},
   "source": [
    "Cosine Similarity\n",
    "Cosine similarity measures the angle between two vectors, showing how similar they are.\n",
    "Checks how similar two things (vectors) are."
   ]
  },
  {
   "cell_type": "code",
   "execution_count": 4,
   "id": "2885ce5c",
   "metadata": {},
   "outputs": [
    {
     "name": "stdout",
     "output_type": "stream",
     "text": [
      "Cosine Similarity: 0.9746318461970762\n"
     ]
    }
   ],
   "source": [
    "\n",
    "def dot_product(a, b):\n",
    "    return sum(x * y for x, y in zip(a, b))\n",
    "\n",
    "def magnitude(v):\n",
    "    return sum(x ** 2 for x in v) ** 0.5\n",
    "\n",
    "def cosine_similarity(a, b):\n",
    "    return dot_product(a, b) / (magnitude(a) * magnitude(b))\n",
    "\n",
    "vec1 = [1, 2, 3]\n",
    "vec2 = [4, 5, 6]\n",
    "\n",
    "print(\"Cosine Similarity:\", cosine_similarity(vec1, vec2))\n"
   ]
  },
  {
   "cell_type": "markdown",
   "id": "2e09db9a",
   "metadata": {},
   "source": [
    "Linear Regression\n",
    "Linear Regression fits a straight line \\( y = mx + b \\) to the data.\n",
    "Finds the best straight-line equation for data."
   ]
  },
  {
   "cell_type": "code",
   "execution_count": 3,
   "id": "68c60ee3",
   "metadata": {},
   "outputs": [
    {
     "name": "stdout",
     "output_type": "stream",
     "text": [
      "Linear Regression: y = 0.79x + 1.23\n"
     ]
    }
   ],
   "source": [
    "\n",
    "def linear_regression(x, y):\n",
    "    n = len(x)\n",
    "    sum_x, sum_y = sum(x), sum(y)\n",
    "    sum_xy = sum(a * b for a, b in zip(x, y))\n",
    "    sum_x2 = sum(a ** 2 for a in x)\n",
    "\n",
    "    m = (n * sum_xy - sum_x * sum_y) / (n * sum_x2 - sum_x ** 2)\n",
    "    b = (sum_y - m * sum_x) / n\n",
    "\n",
    "    return m, b\n",
    "\n",
    "x_vals = [1, 2, 3, 4, 5]\n",
    "y_vals = [2, 2.8, 3.6, 4.5, 5.1]\n",
    "\n",
    "m, b = linear_regression(x_vals, y_vals)\n",
    "print(f\"Linear Regression: y = {m:.2f}x + {b:.2f}\")\n"
   ]
  },
  {
   "cell_type": "markdown",
   "id": "2015100a",
   "metadata": {},
   "source": [
    "Softmax Function\n",
    "Softmax converts numbers into probabilities, making them sum to 1.\n",
    "Converts numbers into probabilities that sum to 1."
   ]
  },
  {
   "cell_type": "code",
   "execution_count": 2,
   "id": "ee29793e",
   "metadata": {},
   "outputs": [
    {
     "name": "stdout",
     "output_type": "stream",
     "text": [
      "Softmax Output: [0.659000948405369, 0.24243306370402204, 0.09856598789060886]\n"
     ]
    }
   ],
   "source": [
    "\n",
    "def softmax(lst):\n",
    "    exp_values = [2.71828 ** x for x in lst]\n",
    "    total = sum(exp_values)\n",
    "    return [x / total for x in exp_values]\n",
    "\n",
    "scores = [2.0, 1.0, 0.1]\n",
    "print(\"Softmax Output:\", softmax(scores))\n"
   ]
  },
  {
   "cell_type": "code",
   "execution_count": null,
   "id": "5591b3e5-415b-47ef-af4e-bce4b89cb578",
   "metadata": {},
   "outputs": [],
   "source": []
  }
 ],
 "metadata": {
  "kernelspec": {
   "display_name": "Python 3 (ipykernel)",
   "language": "python",
   "name": "python3"
  },
  "language_info": {
   "codemirror_mode": {
    "name": "ipython",
    "version": 3
   },
   "file_extension": ".py",
   "mimetype": "text/x-python",
   "name": "python",
   "nbconvert_exporter": "python",
   "pygments_lexer": "ipython3",
   "version": "3.12.6"
  }
 },
 "nbformat": 4,
 "nbformat_minor": 5
}
