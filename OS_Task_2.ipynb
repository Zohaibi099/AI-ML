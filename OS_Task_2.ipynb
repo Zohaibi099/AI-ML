{
 "cells": [
  {
   "cell_type": "markdown",
   "id": "dca09ac3",
   "metadata": {},
   "source": [
    "Statistical Functions in Python"
   ]
  },
  {
   "cell_type": "raw",
   "id": "f1caf84d-0981-49f9-8eee-1ab02bd08cb6",
   "metadata": {},
   "source": [
    "\n",
    "Mean, Median, and Mode\n",
    "- \n",
    "Mean:\n",
    "- Mean refers to the average of given numbers.\n",
    "- It’s the sum of all numbers divided by how many numbers there are\n",
    "\n",
    "Median:\n",
    "- Median refers to the middle value in a list.\n",
    "- If the number of elements is **odd**, the median is the middle value.\n",
    "- If the number of elements is **even**, the median is the average of the two middle values.\n",
    "\n",
    "Mode:\n",
    "- The mode is the most frequently occurring value in the list.\n",
    "- If multiple values appear with the same frequency, return any one of them.\n"
   ]
  },
  {
   "cell_type": "code",
   "execution_count": 5,
   "id": "2ea091b6",
   "metadata": {},
   "outputs": [
    {
     "name": "stdout",
     "output_type": "stream",
     "text": [
      "8.4\n",
      "7\n",
      "7\n"
     ]
    }
   ],
   "source": [
    "num=[3, 7, 7, 10, 15]\n",
    "def mean(lst):\n",
    "    return sum(lst) / len(lst)\n",
    "\n",
    "def median(lst):\n",
    "    lst.sort()\n",
    "    n = len(lst)\n",
    "    mid = n // 2\n",
    "    if n % 2 == 0:\n",
    "        return (lst[mid - 1] + lst[mid]) / 2\n",
    "    else:\n",
    "        return lst[mid]\n",
    "\n",
    "def mode(lst):\n",
    "    freq = {}\n",
    "    for num in lst:\n",
    "        freq[num] = freq.get(num, 0) + 1\n",
    "    max_count = max(freq.values())\n",
    "    for key, val in freq.items():\n",
    "        if val == max_count:\n",
    "            return key\n",
    "\n",
    "print(mean(num))\n",
    "print(median(num))\n",
    "print(mode(num))\n",
    "    "
   ]
  },
  {
   "cell_type": "markdown",
   "id": "b9ce5c07",
   "metadata": {},
   "source": [
    "Variance:\n",
    "Variance tells us how much the numbers deviate from the mean."
   ]
  },
  {
   "cell_type": "code",
   "execution_count": 8,
   "id": "26e185a4",
   "metadata": {},
   "outputs": [
    {
     "name": "stdout",
     "output_type": "stream",
     "text": [
      "15.84\n"
     ]
    }
   ],
   "source": [
    "num=[3, 7, 7, 10, 15]\n",
    "def variance(lst):\n",
    "    m = mean(lst)\n",
    "    return sum((x - m) ** 2 for x in lst) / len(lst)\n",
    "\n",
    "print(variance(num))\n"
   ]
  },
  {
   "cell_type": "markdown",
   "id": "2b9d0a45",
   "metadata": {},
   "source": [
    "Standard Deviation:\n",
    "It’s just the square root of variance:\n",
    "It tells us on average, how far numbers are from the mean.\n",
    "If the standard deviation is small, numbers are close together, and if it's large, numbers are more spread out."
   ]
  },
  {
   "cell_type": "code",
   "execution_count": 16,
   "id": "76b5af24",
   "metadata": {},
   "outputs": [
    {
     "name": "stdout",
     "output_type": "stream",
     "text": [
      "3.97994974842648\n"
     ]
    }
   ],
   "source": [
    "def standard_deviation(lst):\n",
    "    return variance(lst) ** 0.5\n",
    "\n",
    "print(standard_deviation(num))\n"
   ]
  },
  {
   "cell_type": "markdown",
   "id": "f420a265",
   "metadata": {},
   "source": [
    "Euclidean Distance:\n",
    "Euclidean distance measures the straight-line distance between two points."
   ]
  },
  {
   "cell_type": "code",
   "execution_count": 19,
   "id": "8259e1f4",
   "metadata": {},
   "outputs": [
    {
     "name": "stdout",
     "output_type": "stream",
     "text": [
      "8.306623862918075\n"
     ]
    }
   ],
   "source": [
    "def euclidean_distance(a, b):\n",
    "    return sum((x - y) ** 2 for x, y in zip(a, b)) ** 0.5\n",
    "\n",
    "num1 = [2,3,8,3]\n",
    "num2 = [6,7,7,9]\n",
    "\n",
    "print(euclidean_distance(num1, num2))\n"
   ]
  },
  {
   "cell_type": "markdown",
   "id": "5efda2fb",
   "metadata": {},
   "source": [
    "Sigmoid Function:\n",
    "The sigmoid function is widely used in machine learning and neural networks. It takes any real number and transforms it into a value between 0 and 1.\n",
    "It helps make decisions like \"yes\" or \"no\" in AI.\n",
    "It’s used in logistic regression, neural networks, and probability-based prediction."
   ]
  },
  {
   "cell_type": "code",
   "execution_count": 20,
   "id": "37091479",
   "metadata": {},
   "outputs": [
    {
     "name": "stdout",
     "output_type": "stream",
     "text": [
      "0.880796936729369\n"
     ]
    }
   ],
   "source": [
    "def sigmoid(x):\n",
    "    return 1 / (1 + (2.71828 ** -x))\n",
    "\n",
    "num = 2\n",
    "print(sigmoid(num))\n"
   ]
  }
 ],
 "metadata": {
  "kernelspec": {
   "display_name": "Python 3 (ipykernel)",
   "language": "python",
   "name": "python3"
  },
  "language_info": {
   "codemirror_mode": {
    "name": "ipython",
    "version": 3
   },
   "file_extension": ".py",
   "mimetype": "text/x-python",
   "name": "python",
   "nbconvert_exporter": "python",
   "pygments_lexer": "ipython3",
   "version": "3.12.6"
  }
 },
 "nbformat": 4,
 "nbformat_minor": 5
}
